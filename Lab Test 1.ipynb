{
 "cells": [
  {
   "cell_type": "code",
   "execution_count": 1,
   "id": "c076f82a",
   "metadata": {},
   "outputs": [],
   "source": [
    "## setup\n",
    "import findspark\n",
    "findspark.init()\n",
    "findspark.find()\n",
    "import pyspark\n",
    "findspark.find()\n",
    "from pyspark import SparkContext, SparkConf\n",
    "\n",
    "conf = pyspark.SparkConf().setAppName('Lab1').setMaster('local')\n",
    "sc = pyspark.SparkContext(conf=conf)"
   ]
  },
  {
   "cell_type": "code",
   "execution_count": 4,
   "id": "3a12aa04",
   "metadata": {},
   "outputs": [],
   "source": [
    "## get the file into hdfs\n",
    "db = sc.textFile(\"data/mat.txt\")"
   ]
  },
  {
   "cell_type": "code",
   "execution_count": 5,
   "id": "9e506c34",
   "metadata": {
    "scrolled": false
   },
   "outputs": [
    {
     "data": {
      "text/plain": [
       "['A,1,1,1',\n",
       " 'A,1,2,-2',\n",
       " 'A,1,3,-3',\n",
       " 'A,1,4,1',\n",
       " 'A,2,1,4',\n",
       " 'A,2,2,-5',\n",
       " 'A,2,3,-1',\n",
       " 'A,2,4,3',\n",
       " 'A,3,1,-7',\n",
       " 'A,3,2,8',\n",
       " 'A,3,3,-9',\n",
       " 'A,3,4,-1',\n",
       " 'B,1,1,1',\n",
       " 'B,1,2,2',\n",
       " 'B,1,3,3',\n",
       " 'B,1,4,1',\n",
       " 'B,1,5,0',\n",
       " 'B,2,1,4',\n",
       " 'B,2,2,5',\n",
       " 'B,2,3,1',\n",
       " 'B,2,4,3',\n",
       " 'B,2,5,-9',\n",
       " 'B,3,1,8',\n",
       " 'B,3,2,8',\n",
       " 'B,3,3,-9',\n",
       " 'B,3,4,-1',\n",
       " 'B,3,5,10',\n",
       " 'B,4,1,0',\n",
       " 'B,4,2,4',\n",
       " 'B,4,3,9',\n",
       " 'B,4,4,3',\n",
       " 'B,4,5,2']"
      ]
     },
     "execution_count": 5,
     "metadata": {},
     "output_type": "execute_result"
    }
   ],
   "source": [
    "db.collect()"
   ]
  },
  {
   "cell_type": "markdown",
   "id": "1b1af660",
   "metadata": {},
   "source": [
    "#### a) To Check if Aand B are compatible to be added. Output \"TRUE\" or \"False\""
   ]
  },
  {
   "cell_type": "code",
   "execution_count": 16,
   "id": "7dd9e1d3",
   "metadata": {},
   "outputs": [
    {
     "data": {
      "text/plain": [
       "[('Output', False)]"
      ]
     },
     "execution_count": 16,
     "metadata": {},
     "output_type": "execute_result"
    }
   ],
   "source": [
    "rdd1 = db.flatMap(lambda a: [(a.split(',')[0]+'i', int(a.split(',')[1])), (a.split(',')[0]+'j', int(a.split(',')[2]))]    )\n",
    "rdd2 = rdd1.reduceByKey(lambda a,b:max(a,b))\n",
    "rdd3 = rdd2.map(lambda a: (a[0][1], a[1])).reduceByKey(lambda a,b:a==b).map(lambda a:('Output', a[1])).reduceByKey(lambda a,b: a and b)\n",
    "rdd3.collect()"
   ]
  },
  {
   "cell_type": "markdown",
   "id": "d7142b3c",
   "metadata": {},
   "source": [
    "#### b) If so, add them to produce C=A+B"
   ]
  },
  {
   "cell_type": "code",
   "execution_count": 23,
   "id": "0abe9c35",
   "metadata": {},
   "outputs": [
    {
     "data": {
      "text/plain": [
       "['C,1,1,2',\n",
       " 'C,1,2,0',\n",
       " 'C,1,3,0',\n",
       " 'C,1,4,2',\n",
       " 'C,2,1,8',\n",
       " 'C,2,2,0',\n",
       " 'C,2,3,0',\n",
       " 'C,2,4,6',\n",
       " 'C,3,1,1',\n",
       " 'C,3,2,16',\n",
       " 'C,3,3,-18',\n",
       " 'C,3,4,-2',\n",
       " 'C,1,5,0',\n",
       " 'C,2,5,-9',\n",
       " 'C,3,5,10',\n",
       " 'C,4,1,0',\n",
       " 'C,4,2,4',\n",
       " 'C,4,3,9',\n",
       " 'C,4,4,3',\n",
       " 'C,4,5,2']"
      ]
     },
     "execution_count": 23,
     "metadata": {},
     "output_type": "execute_result"
    }
   ],
   "source": [
    "rdd1 = db.map(lambda a: (('C', a.split(',')[1], a.split(',')[2]), int(a.split(',')[3]))).reduceByKey(lambda a,b: a+b)\n",
    "rdd2 = rdd1.map(lambda a: ','.join(a[0])+','+str(a[1]) )\n",
    "rdd2.collect()"
   ]
  },
  {
   "cell_type": "markdown",
   "id": "3d0c2b1c",
   "metadata": {},
   "source": [
    "#### c) To check if A and B are compatible to be multiplied. Output \"TRUE\" or \"FALSE\""
   ]
  },
  {
   "cell_type": "code",
   "execution_count": 29,
   "id": "64a112f2",
   "metadata": {},
   "outputs": [
    {
     "data": {
      "text/plain": [
       "[('Output', True)]"
      ]
     },
     "execution_count": 29,
     "metadata": {},
     "output_type": "execute_result"
    }
   ],
   "source": [
    "rdd1 = db.map(lambda a: ('Aj', int(a.split(',')[2])) if a.split(',')[0]=='A' else ('Bi', int(a.split(',')[1])) )\n",
    "rdd2 = rdd1.reduceByKey(lambda a,b: max(a,b)).map(lambda a: ('Output',a[1])).reduceByKey(lambda a,b:a==b)\n",
    "rdd2.collect()"
   ]
  },
  {
   "cell_type": "markdown",
   "id": "f56ea123",
   "metadata": {},
   "source": [
    "#### d) If so, multiply them to produce C=AB"
   ]
  },
  {
   "cell_type": "code",
   "execution_count": 52,
   "id": "4e1b6f66",
   "metadata": {},
   "outputs": [
    {
     "data": {
      "text/plain": [
       "['C,1,1,-31',\n",
       " 'C,1,2,-28',\n",
       " 'C,1,3,37',\n",
       " 'C,1,4,1',\n",
       " 'C,1,5,-10',\n",
       " 'C,2,1,-24',\n",
       " 'C,2,2,-13',\n",
       " 'C,2,3,43',\n",
       " 'C,2,4,-1',\n",
       " 'C,2,5,41',\n",
       " 'C,3,1,-47',\n",
       " 'C,3,2,-50',\n",
       " 'C,3,3,59',\n",
       " 'C,3,4,23',\n",
       " 'C,3,5,-164']"
      ]
     },
     "execution_count": 52,
     "metadata": {},
     "output_type": "execute_result"
    }
   ],
   "source": [
    "rdd1 = db.map(lambda a: (a.split(',')[2], [('A', a.split(',')[1], int(a.split(',')[3]))] ) if a.split(',')[0]=='A' else  (a.split(',')[1], [('B', a.split(',')[2], int(a.split(',')[3]))] ) )\n",
    "rdd2 = rdd1.reduceByKey(lambda a,b:a+b).map(lambda a:( a[0],[ [ x for x in a[1] if x[0]=='A'], [ x for x in a[1] if x[0]=='B']]) )\n",
    "rdd3 = rdd2.flatMap(lambda a: [(('C', x[1],y[1]) ,x[2]*y[2]) for x in a[1][0] for y in a[1][1] ]).reduceByKey(lambda a,b:a+b)\n",
    "rdd4 = rdd3.map(lambda a: ','.join(a[0])+','+str(a[1]))\n",
    "rdd4.collect()"
   ]
  }
 ],
 "metadata": {
  "kernelspec": {
   "display_name": "Python 3 (ipykernel)",
   "language": "python",
   "name": "python3"
  },
  "language_info": {
   "codemirror_mode": {
    "name": "ipython",
    "version": 3
   },
   "file_extension": ".py",
   "mimetype": "text/x-python",
   "name": "python",
   "nbconvert_exporter": "python",
   "pygments_lexer": "ipython3",
   "version": "3.9.12"
  }
 },
 "nbformat": 4,
 "nbformat_minor": 5
}
