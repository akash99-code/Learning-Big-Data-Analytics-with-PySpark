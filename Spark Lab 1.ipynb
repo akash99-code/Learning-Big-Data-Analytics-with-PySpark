{
 "cells": [
  {
   "cell_type": "code",
   "execution_count": 1,
   "id": "8a1bc14b",
   "metadata": {},
   "outputs": [],
   "source": [
    "## setup\n",
    "import findspark\n",
    "findspark.init()\n",
    "findspark.find()\n",
    "import pyspark\n",
    "findspark.find()\n",
    "from pyspark import SparkContext, SparkConf\n",
    "\n",
    "conf = pyspark.SparkConf().setAppName('Lab1').setMaster('local')\n",
    "sc = pyspark.SparkContext(conf=conf)"
   ]
  },
  {
   "cell_type": "code",
   "execution_count": 2,
   "id": "d1441d20",
   "metadata": {},
   "outputs": [],
   "source": [
    "## get the file into hdfs\n",
    "db = sc.textFile(\"data/db.txt\")"
   ]
  },
  {
   "cell_type": "code",
   "execution_count": 3,
   "id": "14d8157d",
   "metadata": {},
   "outputs": [
    {
     "data": {
      "text/plain": [
       "['A1,B1']"
      ]
     },
     "execution_count": 3,
     "metadata": {},
     "output_type": "execute_result"
    }
   ],
   "source": [
    "db.take(1)"
   ]
  },
  {
   "cell_type": "markdown",
   "id": "1c6a8bd9",
   "metadata": {},
   "source": [
    "#### 1. List the friends of B1"
   ]
  },
  {
   "cell_type": "code",
   "execution_count": 29,
   "id": "8dcd072d",
   "metadata": {},
   "outputs": [
    {
     "data": {
      "text/plain": [
       "[('B1', {'A2', 'B3'})]"
      ]
     },
     "execution_count": 29,
     "metadata": {},
     "output_type": "execute_result"
    }
   ],
   "source": [
    "B1f = db.map(lambda a: (a.split(\",\")[0],{a.split(\",\")[1]})).filter(lambda a:a[0]==\"B1\").reduceByKey(lambda a,b:a.union(b) )\n",
    "B1f.collect()"
   ]
  },
  {
   "cell_type": "markdown",
   "id": "7ed757ed",
   "metadata": {},
   "source": [
    "#### 2. List the friends of B*"
   ]
  },
  {
   "cell_type": "code",
   "execution_count": 30,
   "id": "a3a0f4cd",
   "metadata": {},
   "outputs": [
    {
     "data": {
      "text/plain": [
       "[('B', {'A1', 'A2', 'A3', 'B3', 'C3'})]"
      ]
     },
     "execution_count": 30,
     "metadata": {},
     "output_type": "execute_result"
    }
   ],
   "source": [
    "B_f = db.map(lambda a: (a.split(\",\")[0][0],{a.split(\",\")[1]})).filter(lambda a:a[0]==\"B\").reduceByKey(lambda a,b:a.union(b) )\n",
    "B_f.collect()"
   ]
  },
  {
   "cell_type": "markdown",
   "id": "3c065659",
   "metadata": {},
   "source": [
    "#### 3. List persons who have C* as their friend."
   ]
  },
  {
   "cell_type": "code",
   "execution_count": 31,
   "id": "288b24f6",
   "metadata": {},
   "outputs": [
    {
     "data": {
      "text/plain": [
       "[('C', {'A1', 'A3', 'B4'})]"
      ]
     },
     "execution_count": 31,
     "metadata": {},
     "output_type": "execute_result"
    }
   ],
   "source": [
    "Casf = db.map(lambda a: (a.split(\",\")[1][0],{a.split(\",\")[0]})).filter(lambda a:a[0]==\"C\").reduceByKey(lambda a,b:a.union(b))\n",
    "Casf.collect()"
   ]
  },
  {
   "cell_type": "markdown",
   "id": "4ad9125b",
   "metadata": {},
   "source": [
    "#### 4. List persons who have both C* and A* as their friend."
   ]
  },
  {
   "cell_type": "code",
   "execution_count": 33,
   "id": "c77f49d9",
   "metadata": {
    "scrolled": true
   },
   "outputs": [
    {
     "data": {
      "text/plain": [
       "[('Frnd to A and C', set())]"
      ]
     },
     "execution_count": 33,
     "metadata": {},
     "output_type": "execute_result"
    }
   ],
   "source": [
    "CAasf = db.map(lambda a: (a.split(\",\")[1][0],{a.split(\",\")[0]})).filter(lambda a:a[0]==\"C\" or a[0]==\"A\").reduceByKey(lambda a,b:a.union(b)).map(lambda a: ('Frnd to A and C',a[1])).reduceByKey(lambda a,b:a.intersection(b))\n",
    "CAasf.collect()"
   ]
  },
  {
   "cell_type": "markdown",
   "id": "fd4aef4f",
   "metadata": {},
   "source": [
    "#### 5. List persons who have either A* or B* as their friend."
   ]
  },
  {
   "cell_type": "code",
   "execution_count": 5,
   "id": "85bcc3fb",
   "metadata": {},
   "outputs": [
    {
     "data": {
      "text/plain": [
       "[('Frnd to A and B', {'A1', 'A2', 'B1', 'B2', 'B3', 'C1', 'C3', 'C4'})]"
      ]
     },
     "execution_count": 5,
     "metadata": {},
     "output_type": "execute_result"
    }
   ],
   "source": [
    "CAasf = db.map(lambda a: (a.split(\",\")[1][0],{a.split(\",\")[0]})).filter(lambda a:a[0]==\"B\" or a[0]==\"A\").reduceByKey(lambda a,b:a.union(b)).map(lambda a: ('Frnd to A and B',a[1])).reduceByKey(lambda a,b:a.union(b))\n",
    "CAasf.collect()"
   ]
  },
  {
   "cell_type": "markdown",
   "id": "0cc5f78a",
   "metadata": {},
   "source": [
    "#### 6. List all P1,P2 such that P2 is friend of P1 but P1 is not a friend of P2."
   ]
  },
  {
   "cell_type": "code",
   "execution_count": 13,
   "id": "1c45ba1e",
   "metadata": {},
   "outputs": [
    {
     "data": {
      "text/plain": [
       "[[('A1', 'B1')],\n",
       " [('A1', 'C4')],\n",
       " [('A2', 'B2')],\n",
       " [('A3', 'C1')],\n",
       " [('B1', 'A2')],\n",
       " [('B1', 'B3')],\n",
       " [('B2', 'A1')],\n",
       " [('B3', 'A3')],\n",
       " [('C1', 'A2')],\n",
       " [('C3', 'B2')],\n",
       " [('C4', 'A2')],\n",
       " [('C3', 'B1')]]"
      ]
     },
     "execution_count": 13,
     "metadata": {},
     "output_type": "execute_result"
    }
   ],
   "source": [
    "One_Sided = db.map(lambda a: (''.join({a.split(\",\")[0],a.split(\",\")[1]}),[(a.split(\",\")[0],a.split(\",\")[1])] )).reduceByKey(lambda a,b:a+b).filter(lambda a: len(a[1])==1).values()\n",
    "One_Sided.collect()"
   ]
  },
  {
   "cell_type": "markdown",
   "id": "85e500ea",
   "metadata": {},
   "source": [
    "#### 7. List all P1,P2 such that P2 is friend of P1 and P1 is also a friend of P2."
   ]
  },
  {
   "cell_type": "code",
   "execution_count": 16,
   "id": "c78f3837",
   "metadata": {},
   "outputs": [
    {
     "data": {
      "text/plain": [
       "[('Mutual Frnds', ('B3', 'A2')), ('Mutual Frnds', ('C3', 'B4'))]"
      ]
     },
     "execution_count": 16,
     "metadata": {},
     "output_type": "execute_result"
    }
   ],
   "source": [
    "Two_Sided = db.map(lambda a: (''.join({a.split(\",\")[0],a.split(\",\")[1]}),[(a.split(\",\")[0],a.split(\",\")[1])])).reduceByKey(lambda a,b:a+b).filter(lambda a: len(a[1])==2).map(lambda a: ('Mutual Frnds',a[1][1]))\n",
    "Two_Sided.collect()"
   ]
  },
  {
   "cell_type": "markdown",
   "id": "730029aa",
   "metadata": {},
   "source": [
    "#### 8. Find the person having maximum number of friends."
   ]
  },
  {
   "cell_type": "code",
   "execution_count": 23,
   "id": "37620879",
   "metadata": {
    "scrolled": true
   },
   "outputs": [
    {
     "data": {
      "text/plain": [
       "[('C3', 3)]"
      ]
     },
     "execution_count": 23,
     "metadata": {},
     "output_type": "execute_result"
    }
   ],
   "source": [
    "max_frnds = db.map(lambda a: (a.split(\",\")[0], 1)).reduceByKey(lambda a,b:a+b).sortBy(lambda a:a[1], ascending=False)\n",
    "max_frnds.take(1)"
   ]
  },
  {
   "cell_type": "markdown",
   "id": "19597e8c",
   "metadata": {},
   "source": [
    "#### 9. Find the person who is friend to maximum persons."
   ]
  },
  {
   "cell_type": "code",
   "execution_count": 27,
   "id": "2b2cbb8b",
   "metadata": {},
   "outputs": [
    {
     "data": {
      "text/plain": [
       "[('A2', 4)]"
      ]
     },
     "execution_count": 27,
     "metadata": {},
     "output_type": "execute_result"
    }
   ],
   "source": [
    "max_follower = db.map(lambda a: (a.split(\",\")[1], 1)).reduceByKey(lambda a,b:a+b).sortBy(lambda a:a[1], ascending=False)\n",
    "max_follower.take(1)"
   ]
  },
  {
   "cell_type": "markdown",
   "id": "4cf51540",
   "metadata": {},
   "source": [
    "#### 10. Find popularity rank of each person. Popularity rank(p) = No. of (Friends(Friends(p))"
   ]
  },
  {
   "cell_type": "code",
   "execution_count": 57,
   "id": "02c32a17",
   "metadata": {},
   "outputs": [
    {
     "data": {
      "text/plain": [
       "[('A1', 2),\n",
       " ('A2', 2),\n",
       " ('B1', 4),\n",
       " ('A3', 1),\n",
       " ('B3', 2),\n",
       " ('C1', 2),\n",
       " ('B4', 2),\n",
       " ('C3', 3),\n",
       " ('C4', 2),\n",
       " ('B2', 2)]"
      ]
     },
     "execution_count": 57,
     "metadata": {},
     "output_type": "execute_result"
    }
   ],
   "source": [
    "x = db.map(lambda a: (a.split(\",\")[1], a.split(\",\")[0]))\n",
    "y = db.map(lambda a: (a.split(\",\")[0], {a.split(\",\")[1]}))\n",
    "rank_p = x.join(y).values().reduceByKey(lambda a,b:a.union(b)).map(lambda a: (a[0], len(a[1]-{a[0]})))\n",
    "rank_p.collect()"
   ]
  },
  {
   "cell_type": "markdown",
   "id": "d0a2b96d",
   "metadata": {},
   "source": [
    "#### 11. Find the most popular person based on their popularity rank."
   ]
  },
  {
   "cell_type": "code",
   "execution_count": 61,
   "id": "c53cb63b",
   "metadata": {},
   "outputs": [
    {
     "data": {
      "text/plain": [
       "[('B1', 4)]"
      ]
     },
     "execution_count": 61,
     "metadata": {},
     "output_type": "execute_result"
    }
   ],
   "source": [
    "Most_pop = rank_p.sortBy(lambda a:a[1], ascending=False)\n",
    "Most_pop.take(1)"
   ]
  }
 ],
 "metadata": {
  "kernelspec": {
   "display_name": "Python 3 (ipykernel)",
   "language": "python",
   "name": "python3"
  },
  "language_info": {
   "codemirror_mode": {
    "name": "ipython",
    "version": 3
   },
   "file_extension": ".py",
   "mimetype": "text/x-python",
   "name": "python",
   "nbconvert_exporter": "python",
   "pygments_lexer": "ipython3",
   "version": "3.9.12"
  }
 },
 "nbformat": 4,
 "nbformat_minor": 5
}
