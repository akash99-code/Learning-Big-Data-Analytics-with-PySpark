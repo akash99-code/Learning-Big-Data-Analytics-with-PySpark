{
 "cells": [
  {
   "cell_type": "markdown",
   "metadata": {},
   "source": [
    "## Chaining\n",
    "We can **chain** transformations and actions to create a computation **pipeline**\n",
    "Suppose we want to compute the sum of the squares\n",
    "$$ \\sum_{i=1}^n x_i^2 $$\n",
    "where the elements $x_i$ are stored in an RDD."
   ]
  },
  {
   "cell_type": "markdown",
   "metadata": {},
   "source": [
    "### Start the `SparkContext`"
   ]
  },
  {
   "cell_type": "code",
   "execution_count": null,
   "metadata": {},
   "outputs": [],
   "source": [
    "import numpy as np\n",
    "from pyspark import SparkContext\n",
    "sc = SparkContext(master=\"local[4]\")"
   ]
  },
  {
   "cell_type": "code",
   "execution_count": null,
   "metadata": {},
   "outputs": [],
   "source": [
    "B=sc.parallelize(np.random.randint(0,10,size=1000))\n",
    "lst = B.collect()\n",
    "for i in lst: \n",
    "    print(i,end=', ')"
   ]
  },
  {
   "cell_type": "markdown",
   "metadata": {},
   "source": [
    "### Sequential syntax for chaining\n",
    "Perform assignment after each computation"
   ]
  },
  {
   "cell_type": "code",
   "execution_count": 3,
   "metadata": {},
   "outputs": [
    {
     "name": "stdout",
     "output_type": "stream",
     "text": [
      "CPU times: total: 15.6 ms\n",
      "Wall time: 6.88 s\n"
     ]
    }
   ],
   "source": [
    "%%time\n",
    "Squares=B.map(lambda x:x*x)\n",
    "summation = Squares.reduce(lambda x,y:x+y)"
   ]
  },
  {
   "cell_type": "code",
   "execution_count": 4,
   "metadata": {},
   "outputs": [
    {
     "name": "stdout",
     "output_type": "stream",
     "text": [
      "27727\n"
     ]
    }
   ],
   "source": [
    "print(summation)"
   ]
  },
  {
   "cell_type": "markdown",
   "metadata": {},
   "source": [
    "### Cascaded syntax for chaining\n",
    "Combine computations into a single cascaded command"
   ]
  },
  {
   "cell_type": "code",
   "execution_count": 5,
   "metadata": {},
   "outputs": [
    {
     "name": "stdout",
     "output_type": "stream",
     "text": [
      "CPU times: total: 0 ns\n",
      "Wall time: 4.34 s\n"
     ]
    },
    {
     "data": {
      "text/plain": [
       "27727"
      ]
     },
     "execution_count": 5,
     "metadata": {},
     "output_type": "execute_result"
    }
   ],
   "source": [
    "%%time\n",
    "B.map(lambda x:x*x).reduce(lambda x,y:x+y)"
   ]
  },
  {
   "cell_type": "markdown",
   "metadata": {},
   "source": [
    "### Both syntaxes mean exactly the same thing\n",
    "The only difference:\n",
    "* In the sequential syntax the intermediate RDD has a name `Squares`\n",
    "* In the cascaded syntax the intermediate RDD is *anonymous*\n",
    "\n",
    "The execution is identical!\n",
    "\n",
    "### Sequential execution\n",
    "The standard way that the map and reduce are executed is\n",
    "* perform the map\n",
    "* store the resulting RDD in memory\n",
    "* perform the reduce\n",
    "\n",
    "### Disadvantages of Sequential execution\n",
    "\n",
    "1. Intermediate result (`Squares`) requires memory space.\n",
    "2. Two scans of memory (of `B`, then of `Squares`)\n",
    "\n",
    "### Pipelined execution\n",
    "Perform the whole computation in a single pass. For each element of **`B`**\n",
    "1. Compute the square\n",
    "2. Enter the square as input to the `reduce` operation.\n",
    "\n",
    "### Advantages of Pipelined execution\n",
    "\n",
    "1. Less memory required - intermediate result is not stored.\n",
    "2. Faster - only one pass through the Input RDD."
   ]
  },
  {
   "cell_type": "code",
   "execution_count": 6,
   "metadata": {},
   "outputs": [],
   "source": [
    "sc.stop()"
   ]
  }
 ],
 "metadata": {
  "kernelspec": {
   "display_name": "Python 3 (ipykernel)",
   "language": "python",
   "name": "python3"
  },
  "language_info": {
   "codemirror_mode": {
    "name": "ipython",
    "version": 3
   },
   "file_extension": ".py",
   "mimetype": "text/x-python",
   "name": "python",
   "nbconvert_exporter": "python",
   "pygments_lexer": "ipython3",
   "version": "3.9.12"
  }
 },
 "nbformat": 4,
 "nbformat_minor": 2
}
