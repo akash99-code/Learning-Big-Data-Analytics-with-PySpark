{
 "cells": [
  {
   "cell_type": "markdown",
   "id": "8666c3f2",
   "metadata": {},
   "source": [
    "## Spark Lab 2"
   ]
  },
  {
   "cell_type": "markdown",
   "id": "919dbc7b",
   "metadata": {},
   "source": [
    "#### Problem:\n",
    "\n",
    "Swami's ten discourses on different subjects were downloaded from Radiosai as text files.\n",
    "These were preprocessed to remove all punctuations and an identifer is added to each line to indicate the discourse number.\n",
    "The format of the text is <id>:<line>\n",
    "All these are zipped and available as data.zip\n",
    "Unzip data.zip to your working folder\n",
    "\n",
    "Treat each discourse as a set of words (case insensitive) and use Jaccard similarity as the measure for finding similarity between two discourses. Identify the pair of discourses that have the highest and the lowest similarity along with the actual similarity measure.\n",
    "Jaccard Similarity (D1,D2) = |Intersection(D1,D2)| / |Union(D1,D2)|  [|S| - indicates cardinality of S]\n",
    "\n",
    "Complete the following:\n",
    "a) Load all discourses into an RDD for suitable further processing\n",
    "b) Find Jaccard similarity of a pair\n",
    "c) Find max and min pair\n"
   ]
  },
  {
   "cell_type": "code",
   "execution_count": 1,
   "id": "5b8cba4d",
   "metadata": {},
   "outputs": [],
   "source": [
    "## setup\n",
    "import findspark\n",
    "findspark.init()\n",
    "findspark.find()\n",
    "import pyspark\n",
    "findspark.find()\n",
    "from pyspark import SparkContext, SparkConf\n",
    "\n",
    "conf = pyspark.SparkConf().setAppName('Lab2').setMaster('local')\n",
    "sc = pyspark.SparkContext(conf=conf)"
   ]
  },
  {
   "cell_type": "markdown",
   "id": "ff5ade07",
   "metadata": {},
   "source": [
    "#### a) Load all discourses into an RDD for suitable further processing "
   ]
  },
  {
   "cell_type": "code",
   "execution_count": 2,
   "id": "fc7a21e8",
   "metadata": {},
   "outputs": [
    {
     "data": {
      "text/plain": [
       "'data/discourses/discourse1.txt,data/discourses/discourse2.txt,data/discourses/discourse3.txt,data/discourses/discourse4.txt,data/discourses/discourse5.txt,data/discourses/discourse6.txt,data/discourses/discourse7.txt,data/discourses/discourse8.txt,data/discourses/discourse9.txt,data/discourses/discourse10.txt'"
      ]
     },
     "execution_count": 2,
     "metadata": {},
     "output_type": "execute_result"
    }
   ],
   "source": [
    "## Paths to all discourses\n",
    "paths = ','.join([\"data/discourses/discourse\"+str(i)+\".txt\" for i in range(1,11)])\n",
    "paths"
   ]
  },
  {
   "cell_type": "code",
   "execution_count": 3,
   "id": "dfa65c7d",
   "metadata": {},
   "outputs": [
    {
     "data": {
      "text/plain": [
       "['1:Manasu nirmalambe manchiki margambu Pure mind leads to goodness Manasu nirmalambe mahitha shakthi Pure mind is the mighty power Nirmalambu manase neeradi mutyavu Pure mind is the pearl of the great ocean of life One needs to dwell on the pearl from where does one get the pearl Is it found on trees Does it crop out of the earth No it is got from ocean alone What is this ocean The ocean is the ocean of life In this very ocean of life one can find the pearls The body is like the shell the pearl of atma resides in the shell called the body. The pearl is white and shines bright That is atma nirgunam niranjanam sanathanam nikethanam nithya sudha budha muktha nirmala swaroopinam the pure one There is no other entity which is as effulgent as pure and as sacred as the atma Though atma does not have legs nothing can move faster than it The atma does not have hands but it can hold everything. The atma does not have eyes there is nothing that it cannot see Love is the only path to understand and get hold of such atma That love exists as rasa swaroopam the life fluid in all The poets describe it as the Nava rasa nine life fluids but there exists only two rasas life fluids One is karuna rasamu compassion and the other is soka rasam misery or sorrow All the rest of the rasas are found in these two The Karuna Rasa compassion is the rasa of love Once one has the rasa of love one has God That is why Swami says Love is God Live in love ',\n",
       " '2:Man thinks that it is the eye that sees a particular scene No The eye is lifeless inert Who is the one that sees It is the atma that sees There are the bulbs that glow in the car One may think that it is the bulbs that glow but it is the current flowing in the bulbs that makes them glow It is similar with the ears one hears the sound from the loud speakers and thinks that the loud speakers are the basis for the sound emanating from it But the moment the flow of current stops the loud speakers go mute So here too it is the current that is the basis for the sound The ears can be compared to the loudspeakers and it is because of the current called atma that the ear is able to hear The tongue which speaks is like a mike which is useless without the current flow Hence it is the atma that is the basis for all the senses Without mentioning the name of atma the scientists today say it is a power or energy This energy too is a form of power Energy is useless without matter Just as energy is useless without matter so also matter is useless without energy ']"
      ]
     },
     "execution_count": 3,
     "metadata": {},
     "output_type": "execute_result"
    }
   ],
   "source": [
    "## loading the data\n",
    "rdd = sc.textFile(paths)\n",
    "rdd.take(2)"
   ]
  },
  {
   "cell_type": "code",
   "execution_count": 5,
   "id": "febcdd3b",
   "metadata": {
    "scrolled": true
   },
   "outputs": [
    {
     "data": {
      "text/plain": [
       "10"
      ]
     },
     "execution_count": 5,
     "metadata": {},
     "output_type": "execute_result"
    }
   ],
   "source": [
    "## Splitting the sentences into set of words\n",
    "rdd2 = rdd.map(lambda a: (a.split(':')[0],set(a.split(':')[1].lower().strip().split(\" \")) ) )\n",
    "rdd2.count()"
   ]
  },
  {
   "cell_type": "markdown",
   "id": "111b41e8",
   "metadata": {},
   "source": [
    "#### b) Find Jaccard similarity of a pair"
   ]
  },
  {
   "cell_type": "markdown",
   "id": "f54243df",
   "metadata": {},
   "source": [
    "-> Using cartesian"
   ]
  },
  {
   "cell_type": "code",
   "execution_count": 101,
   "id": "0a21b50b",
   "metadata": {},
   "outputs": [
    {
     "data": {
      "text/plain": [
       "[(('1',\n",
       "   {'all',\n",
       "    'alone',\n",
       "    'and',\n",
       "    'are',\n",
       "    'as',\n",
       "    'atma',\n",
       "    'body',\n",
       "    'body.',\n",
       "    'bright',\n",
       "    'budha',\n",
       "    'but',\n",
       "    'called',\n",
       "    'can',\n",
       "    'cannot',\n",
       "    'compassion',\n",
       "    'crop',\n",
       "    'describe',\n",
       "    'does',\n",
       "    'dwell',\n",
       "    'earth',\n",
       "    'effulgent',\n",
       "    'entity',\n",
       "    'everything.',\n",
       "    'exists',\n",
       "    'eyes',\n",
       "    'faster',\n",
       "    'find',\n",
       "    'fluid',\n",
       "    'fluids',\n",
       "    'found',\n",
       "    'from',\n",
       "    'get',\n",
       "    'god',\n",
       "    'goodness',\n",
       "    'got',\n",
       "    'great',\n",
       "    'hands',\n",
       "    'has',\n",
       "    'have',\n",
       "    'hold',\n",
       "    'in',\n",
       "    'is',\n",
       "    'it',\n",
       "    'karuna',\n",
       "    'leads',\n",
       "    'legs',\n",
       "    'life',\n",
       "    'like',\n",
       "    'live',\n",
       "    'love',\n",
       "    'mahitha',\n",
       "    'manase',\n",
       "    'manasu',\n",
       "    'manchiki',\n",
       "    'margambu',\n",
       "    'mighty',\n",
       "    'mind',\n",
       "    'misery',\n",
       "    'move',\n",
       "    'muktha',\n",
       "    'mutyavu',\n",
       "    'nava',\n",
       "    'needs',\n",
       "    'neeradi',\n",
       "    'nikethanam',\n",
       "    'nine',\n",
       "    'niranjanam',\n",
       "    'nirgunam',\n",
       "    'nirmala',\n",
       "    'nirmalambe',\n",
       "    'nirmalambu',\n",
       "    'nithya',\n",
       "    'no',\n",
       "    'not',\n",
       "    'nothing',\n",
       "    'ocean',\n",
       "    'of',\n",
       "    'on',\n",
       "    'once',\n",
       "    'one',\n",
       "    'only',\n",
       "    'or',\n",
       "    'other',\n",
       "    'out',\n",
       "    'path',\n",
       "    'pearl',\n",
       "    'pearls',\n",
       "    'poets',\n",
       "    'power',\n",
       "    'pure',\n",
       "    'rasa',\n",
       "    'rasam',\n",
       "    'rasamu',\n",
       "    'rasas',\n",
       "    'resides',\n",
       "    'rest',\n",
       "    'sacred',\n",
       "    'sanathanam',\n",
       "    'says',\n",
       "    'see',\n",
       "    'shakthi',\n",
       "    'shell',\n",
       "    'shines',\n",
       "    'soka',\n",
       "    'sorrow',\n",
       "    'such',\n",
       "    'sudha',\n",
       "    'swami',\n",
       "    'swaroopam',\n",
       "    'swaroopinam',\n",
       "    'than',\n",
       "    'that',\n",
       "    'the',\n",
       "    'there',\n",
       "    'these',\n",
       "    'this',\n",
       "    'though',\n",
       "    'to',\n",
       "    'trees',\n",
       "    'two',\n",
       "    'understand',\n",
       "    'very',\n",
       "    'what',\n",
       "    'where',\n",
       "    'which',\n",
       "    'white',\n",
       "    'why'}),\n",
       "  ('1',\n",
       "   {'all',\n",
       "    'alone',\n",
       "    'and',\n",
       "    'are',\n",
       "    'as',\n",
       "    'atma',\n",
       "    'body',\n",
       "    'body.',\n",
       "    'bright',\n",
       "    'budha',\n",
       "    'but',\n",
       "    'called',\n",
       "    'can',\n",
       "    'cannot',\n",
       "    'compassion',\n",
       "    'crop',\n",
       "    'describe',\n",
       "    'does',\n",
       "    'dwell',\n",
       "    'earth',\n",
       "    'effulgent',\n",
       "    'entity',\n",
       "    'everything.',\n",
       "    'exists',\n",
       "    'eyes',\n",
       "    'faster',\n",
       "    'find',\n",
       "    'fluid',\n",
       "    'fluids',\n",
       "    'found',\n",
       "    'from',\n",
       "    'get',\n",
       "    'god',\n",
       "    'goodness',\n",
       "    'got',\n",
       "    'great',\n",
       "    'hands',\n",
       "    'has',\n",
       "    'have',\n",
       "    'hold',\n",
       "    'in',\n",
       "    'is',\n",
       "    'it',\n",
       "    'karuna',\n",
       "    'leads',\n",
       "    'legs',\n",
       "    'life',\n",
       "    'like',\n",
       "    'live',\n",
       "    'love',\n",
       "    'mahitha',\n",
       "    'manase',\n",
       "    'manasu',\n",
       "    'manchiki',\n",
       "    'margambu',\n",
       "    'mighty',\n",
       "    'mind',\n",
       "    'misery',\n",
       "    'move',\n",
       "    'muktha',\n",
       "    'mutyavu',\n",
       "    'nava',\n",
       "    'needs',\n",
       "    'neeradi',\n",
       "    'nikethanam',\n",
       "    'nine',\n",
       "    'niranjanam',\n",
       "    'nirgunam',\n",
       "    'nirmala',\n",
       "    'nirmalambe',\n",
       "    'nirmalambu',\n",
       "    'nithya',\n",
       "    'no',\n",
       "    'not',\n",
       "    'nothing',\n",
       "    'ocean',\n",
       "    'of',\n",
       "    'on',\n",
       "    'once',\n",
       "    'one',\n",
       "    'only',\n",
       "    'or',\n",
       "    'other',\n",
       "    'out',\n",
       "    'path',\n",
       "    'pearl',\n",
       "    'pearls',\n",
       "    'poets',\n",
       "    'power',\n",
       "    'pure',\n",
       "    'rasa',\n",
       "    'rasam',\n",
       "    'rasamu',\n",
       "    'rasas',\n",
       "    'resides',\n",
       "    'rest',\n",
       "    'sacred',\n",
       "    'sanathanam',\n",
       "    'says',\n",
       "    'see',\n",
       "    'shakthi',\n",
       "    'shell',\n",
       "    'shines',\n",
       "    'soka',\n",
       "    'sorrow',\n",
       "    'such',\n",
       "    'sudha',\n",
       "    'swami',\n",
       "    'swaroopam',\n",
       "    'swaroopinam',\n",
       "    'than',\n",
       "    'that',\n",
       "    'the',\n",
       "    'there',\n",
       "    'these',\n",
       "    'this',\n",
       "    'though',\n",
       "    'to',\n",
       "    'trees',\n",
       "    'two',\n",
       "    'understand',\n",
       "    'very',\n",
       "    'what',\n",
       "    'where',\n",
       "    'which',\n",
       "    'white',\n",
       "    'why'})),\n",
       " (('1',\n",
       "   {'all',\n",
       "    'alone',\n",
       "    'and',\n",
       "    'are',\n",
       "    'as',\n",
       "    'atma',\n",
       "    'body',\n",
       "    'body.',\n",
       "    'bright',\n",
       "    'budha',\n",
       "    'but',\n",
       "    'called',\n",
       "    'can',\n",
       "    'cannot',\n",
       "    'compassion',\n",
       "    'crop',\n",
       "    'describe',\n",
       "    'does',\n",
       "    'dwell',\n",
       "    'earth',\n",
       "    'effulgent',\n",
       "    'entity',\n",
       "    'everything.',\n",
       "    'exists',\n",
       "    'eyes',\n",
       "    'faster',\n",
       "    'find',\n",
       "    'fluid',\n",
       "    'fluids',\n",
       "    'found',\n",
       "    'from',\n",
       "    'get',\n",
       "    'god',\n",
       "    'goodness',\n",
       "    'got',\n",
       "    'great',\n",
       "    'hands',\n",
       "    'has',\n",
       "    'have',\n",
       "    'hold',\n",
       "    'in',\n",
       "    'is',\n",
       "    'it',\n",
       "    'karuna',\n",
       "    'leads',\n",
       "    'legs',\n",
       "    'life',\n",
       "    'like',\n",
       "    'live',\n",
       "    'love',\n",
       "    'mahitha',\n",
       "    'manase',\n",
       "    'manasu',\n",
       "    'manchiki',\n",
       "    'margambu',\n",
       "    'mighty',\n",
       "    'mind',\n",
       "    'misery',\n",
       "    'move',\n",
       "    'muktha',\n",
       "    'mutyavu',\n",
       "    'nava',\n",
       "    'needs',\n",
       "    'neeradi',\n",
       "    'nikethanam',\n",
       "    'nine',\n",
       "    'niranjanam',\n",
       "    'nirgunam',\n",
       "    'nirmala',\n",
       "    'nirmalambe',\n",
       "    'nirmalambu',\n",
       "    'nithya',\n",
       "    'no',\n",
       "    'not',\n",
       "    'nothing',\n",
       "    'ocean',\n",
       "    'of',\n",
       "    'on',\n",
       "    'once',\n",
       "    'one',\n",
       "    'only',\n",
       "    'or',\n",
       "    'other',\n",
       "    'out',\n",
       "    'path',\n",
       "    'pearl',\n",
       "    'pearls',\n",
       "    'poets',\n",
       "    'power',\n",
       "    'pure',\n",
       "    'rasa',\n",
       "    'rasam',\n",
       "    'rasamu',\n",
       "    'rasas',\n",
       "    'resides',\n",
       "    'rest',\n",
       "    'sacred',\n",
       "    'sanathanam',\n",
       "    'says',\n",
       "    'see',\n",
       "    'shakthi',\n",
       "    'shell',\n",
       "    'shines',\n",
       "    'soka',\n",
       "    'sorrow',\n",
       "    'such',\n",
       "    'sudha',\n",
       "    'swami',\n",
       "    'swaroopam',\n",
       "    'swaroopinam',\n",
       "    'than',\n",
       "    'that',\n",
       "    'the',\n",
       "    'there',\n",
       "    'these',\n",
       "    'this',\n",
       "    'though',\n",
       "    'to',\n",
       "    'trees',\n",
       "    'two',\n",
       "    'understand',\n",
       "    'very',\n",
       "    'what',\n",
       "    'where',\n",
       "    'which',\n",
       "    'white',\n",
       "    'why'}),\n",
       "  ('2',\n",
       "   {'a',\n",
       "    'able',\n",
       "    'all',\n",
       "    'also',\n",
       "    'and',\n",
       "    'are',\n",
       "    'as',\n",
       "    'atma',\n",
       "    'basis',\n",
       "    'be',\n",
       "    'because',\n",
       "    'bulbs',\n",
       "    'but',\n",
       "    'called',\n",
       "    'can',\n",
       "    'car',\n",
       "    'compared',\n",
       "    'current',\n",
       "    'ear',\n",
       "    'ears',\n",
       "    'emanating',\n",
       "    'energy',\n",
       "    'eye',\n",
       "    'flow',\n",
       "    'flowing',\n",
       "    'for',\n",
       "    'form',\n",
       "    'from',\n",
       "    'glow',\n",
       "    'go',\n",
       "    'hear',\n",
       "    'hears',\n",
       "    'hence',\n",
       "    'here',\n",
       "    'in',\n",
       "    'inert',\n",
       "    'is',\n",
       "    'it',\n",
       "    'just',\n",
       "    'lifeless',\n",
       "    'like',\n",
       "    'loud',\n",
       "    'loudspeakers',\n",
       "    'makes',\n",
       "    'man',\n",
       "    'matter',\n",
       "    'may',\n",
       "    'mentioning',\n",
       "    'mike',\n",
       "    'moment',\n",
       "    'mute',\n",
       "    'name',\n",
       "    'no',\n",
       "    'of',\n",
       "    'one',\n",
       "    'or',\n",
       "    'particular',\n",
       "    'power',\n",
       "    'say',\n",
       "    'scene',\n",
       "    'scientists',\n",
       "    'sees',\n",
       "    'senses',\n",
       "    'similar',\n",
       "    'so',\n",
       "    'sound',\n",
       "    'speakers',\n",
       "    'speaks',\n",
       "    'stops',\n",
       "    'that',\n",
       "    'the',\n",
       "    'them',\n",
       "    'there',\n",
       "    'think',\n",
       "    'thinks',\n",
       "    'this',\n",
       "    'to',\n",
       "    'today',\n",
       "    'tongue',\n",
       "    'too',\n",
       "    'useless',\n",
       "    'which',\n",
       "    'who',\n",
       "    'with',\n",
       "    'without'}))]"
      ]
     },
     "execution_count": 101,
     "metadata": {},
     "output_type": "execute_result"
    }
   ],
   "source": [
    "## Cartesian function to generate pairs of documents\n",
    "rdd3 = rdd2.cartesian(rdd2)\n",
    "rdd3.take(2)"
   ]
  },
  {
   "cell_type": "code",
   "execution_count": 102,
   "id": "5c78904a",
   "metadata": {
    "scrolled": false
   },
   "outputs": [
    {
     "data": {
      "text/plain": [
       "45"
      ]
     },
     "execution_count": 102,
     "metadata": {},
     "output_type": "execute_result"
    }
   ],
   "source": [
    "## Filtering duplicate pairs\n",
    "rdd4 = rdd3.filter(lambda a: a[0][0]>a[1][0])\n",
    "rdd4.count()"
   ]
  },
  {
   "cell_type": "code",
   "execution_count": 103,
   "id": "4eb50b6a",
   "metadata": {},
   "outputs": [
    {
     "data": {
      "text/plain": [
       "[(('2', '1'), 0.1276595744680851), (('2', '10'), 0.13636363636363635)]"
      ]
     },
     "execution_count": 103,
     "metadata": {},
     "output_type": "execute_result"
    }
   ],
   "source": [
    "## Calculating JSIMs for each pair\n",
    "rdd5 = rdd4.map(lambda a: ((a[0][0], a[1][0]), len(a[0][1].intersection(a[1][1]))/len(a[0][1].union(a[1][1])) ))\n",
    "rdd5.take(2)"
   ]
  },
  {
   "cell_type": "markdown",
   "id": "693ffbc0",
   "metadata": {},
   "source": [
    "-> Without using cartesian"
   ]
  },
  {
   "cell_type": "code",
   "execution_count": 75,
   "id": "ce5c7202",
   "metadata": {},
   "outputs": [],
   "source": [
    "## Unique Hash value generator for a pair.\n",
    "def hashkey(a,b):\n",
    "    s=[int(a),int(b)]\n",
    "    s.sort()\n",
    "    p=','.join([str(i) for i in s])\n",
    "    return p"
   ]
  },
  {
   "cell_type": "code",
   "execution_count": 105,
   "id": "b11d4746",
   "metadata": {},
   "outputs": [],
   "source": [
    "## replicating each record into no. of pairs it can form\n",
    "rdd3 = rdd2.flatMap(lambda a: [ (hashkey(i,a[0]),a[1]) for i in range(1,11) if i!=int(a[0])  ] )\n"
   ]
  },
  {
   "cell_type": "code",
   "execution_count": 106,
   "id": "3c5b8e9c",
   "metadata": {},
   "outputs": [],
   "source": [
    "## initiating reduce operation so that each record move to its pair.\n",
    "rdd5= rdd3.reduceByKey(lambda a,b: len(a.intersection(b))/len(a.union(b)) )"
   ]
  },
  {
   "cell_type": "code",
   "execution_count": 97,
   "id": "31abbc59",
   "metadata": {},
   "outputs": [
    {
     "data": {
      "text/plain": [
       "45"
      ]
     },
     "execution_count": 97,
     "metadata": {},
     "output_type": "execute_result"
    }
   ],
   "source": [
    "rdd4.count()"
   ]
  },
  {
   "cell_type": "code",
   "execution_count": 107,
   "id": "764f3853",
   "metadata": {},
   "outputs": [
    {
     "data": {
      "text/plain": [
       "[('1,2', 0.1276595744680851),\n",
       " ('2,8', 0.13071895424836602),\n",
       " ('3,5', 0.13690476190476192),\n",
       " ('4,10', 0.13071895424836602),\n",
       " ('6,7', 0.11764705882352941)]"
      ]
     },
     "execution_count": 107,
     "metadata": {},
     "output_type": "execute_result"
    }
   ],
   "source": [
    "rdd5.take(5)"
   ]
  },
  {
   "cell_type": "markdown",
   "id": "48248c67",
   "metadata": {},
   "source": [
    "-- *Catersian method takes lots of time compared to non-cartesian method.*"
   ]
  },
  {
   "cell_type": "markdown",
   "id": "ae5aff01",
   "metadata": {},
   "source": [
    "#### c) Find max and min pair"
   ]
  },
  {
   "cell_type": "code",
   "execution_count": 108,
   "id": "fbf38085",
   "metadata": {},
   "outputs": [
    {
     "data": {
      "text/plain": [
       "('1,5', 0.4557823129251701)"
      ]
     },
     "execution_count": 108,
     "metadata": {},
     "output_type": "execute_result"
    }
   ],
   "source": [
    "max_pair = rdd5.reduce(lambda a,b: a if a[1]>b[1] else b)\n",
    "max_pair"
   ]
  },
  {
   "cell_type": "markdown",
   "id": "5c53e4c7",
   "metadata": {},
   "source": [
    "  `Document 1 and 5 are most similar`"
   ]
  },
  {
   "cell_type": "code",
   "execution_count": 100,
   "id": "494747f0",
   "metadata": {},
   "outputs": [
    {
     "data": {
      "text/plain": [
       "('8,10', 0.09202453987730061)"
      ]
     },
     "execution_count": 100,
     "metadata": {},
     "output_type": "execute_result"
    }
   ],
   "source": [
    "min_pair = rdd5.reduce(lambda a,b: a if a[1]<b[1] else b)\n",
    "min_pair"
   ]
  },
  {
   "cell_type": "markdown",
   "id": "c2526860",
   "metadata": {},
   "source": [
    "  `Document 8 and 10 are least similar`"
   ]
  }
 ],
 "metadata": {
  "kernelspec": {
   "display_name": "Python 3 (ipykernel)",
   "language": "python",
   "name": "python3"
  },
  "language_info": {
   "codemirror_mode": {
    "name": "ipython",
    "version": 3
   },
   "file_extension": ".py",
   "mimetype": "text/x-python",
   "name": "python",
   "nbconvert_exporter": "python",
   "pygments_lexer": "ipython3",
   "version": "3.9.12"
  }
 },
 "nbformat": 4,
 "nbformat_minor": 5
}
