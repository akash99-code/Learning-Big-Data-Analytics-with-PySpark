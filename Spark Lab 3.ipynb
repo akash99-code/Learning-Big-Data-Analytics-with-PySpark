{
 "cells": [
  {
   "cell_type": "markdown",
   "id": "2eefba57",
   "metadata": {},
   "source": [
    "## Spark Assignment-III"
   ]
  },
  {
   "cell_type": "markdown",
   "id": "dda8c3e8",
   "metadata": {},
   "source": [
    "#### Problem:\n",
    "\n",
    "The file named “Universal.txt” contains a list of around 600 words, one per line, in alphabetical order and in lower case to be used as an universal set of words. A list of 1000 words made up of random characters with each word size limited to length 10 is available in “Stream.txt”.\n",
    "\n",
    "Compute the number of words in Stream.txt that belong to the universal set using the bloom filter. Use a bit array of size 4K and k hash functions of the form:\n",
    "\n",
    "(a*(hash(word)) + b) mod 4096, for random integers a and b. \n",
    "\n",
    "Check the actual number using a set membership algorithm and provide the false positive percentage if any, with varying k.\n"
   ]
  },
  {
   "cell_type": "code",
   "execution_count": 1,
   "id": "cac1bff6",
   "metadata": {},
   "outputs": [],
   "source": [
    "## setup\n",
    "import findspark\n",
    "findspark.init()\n",
    "findspark.find()\n",
    "import pyspark\n",
    "findspark.find()\n",
    "from pyspark import SparkContext, SparkConf\n",
    "\n",
    "conf = pyspark.SparkConf().setAppName('Lab2').setMaster('local')\n",
    "sc = pyspark.SparkContext(conf=conf)"
   ]
  },
  {
   "cell_type": "code",
   "execution_count": 2,
   "id": "593df3b4",
   "metadata": {},
   "outputs": [
    {
     "data": {
      "text/plain": [
       "['a', 'aadarinchade', 'able', 'about', 'abundant']"
      ]
     },
     "execution_count": 2,
     "metadata": {},
     "output_type": "execute_result"
    }
   ],
   "source": [
    "## Loading universal data\n",
    "univ = sc.textFile(\"data/universal.txt\")\n",
    "univ.take(5)"
   ]
  },
  {
   "cell_type": "code",
   "execution_count": 3,
   "id": "e62f9227",
   "metadata": {},
   "outputs": [
    {
     "data": {
      "text/plain": [
       "585"
      ]
     },
     "execution_count": 3,
     "metadata": {},
     "output_type": "execute_result"
    }
   ],
   "source": [
    "## no. of words in universal data\n",
    "univ.count()"
   ]
  },
  {
   "cell_type": "markdown",
   "id": "59d5b808",
   "metadata": {},
   "source": [
    "### Generating k hash functions"
   ]
  },
  {
   "cell_type": "code",
   "execution_count": 37,
   "id": "c20e0da3",
   "metadata": {},
   "outputs": [],
   "source": [
    "## k hash function gernerator\n",
    "import random\n",
    "\n",
    "def gen_kHash(k):\n",
    "    khash = dict()\n",
    "    for i in range(k):\n",
    "        a=random.randint(0, 5000)\n",
    "        b=random.randint(0, 5000)\n",
    "        \n",
    "        khash[i]= (a,b)\n",
    "    \n",
    "    return khash\n",
    "        "
   ]
  },
  {
   "cell_type": "markdown",
   "id": "6daff2ee",
   "metadata": {},
   "source": [
    "### Bit Array"
   ]
  },
  {
   "cell_type": "code",
   "execution_count": 5,
   "id": "3b50cc5c",
   "metadata": {},
   "outputs": [],
   "source": [
    "## Bit Array\n",
    "bitArray = [0]*4096"
   ]
  },
  {
   "cell_type": "markdown",
   "id": "7437f03b",
   "metadata": {},
   "source": [
    "### Generating Bloom filter from universal set."
   ]
  },
  {
   "cell_type": "code",
   "execution_count": 6,
   "id": "0061e27c",
   "metadata": {},
   "outputs": [],
   "source": [
    "## bloo  filter   \n",
    "def gen_bloomFilter(k, univ):    \n",
    "    kHash = gen_kHash(k)\n",
    "    index=set()\n",
    "    for a,b in kHash.values():\n",
    "        temp = univ.map(lambda word: (a*hash(word) + b)%4096 )\n",
    "        index=index.union(set(temp.collect()))\n",
    "        \n",
    "    return index, kHash \n"
   ]
  },
  {
   "cell_type": "code",
   "execution_count": 7,
   "id": "d2139925",
   "metadata": {},
   "outputs": [],
   "source": [
    "### using 5 hash functions\n",
    "k=5\n",
    "index, kHash = gen_bloomFilter(k, univ)"
   ]
  },
  {
   "cell_type": "code",
   "execution_count": 8,
   "id": "d0a71d20",
   "metadata": {},
   "outputs": [
    {
     "data": {
      "text/plain": [
       "{0: (1, 1), 1: (2, 2), 2: (0, 1), 3: (2, 2), 4: (1, 1)}"
      ]
     },
     "execution_count": 8,
     "metadata": {},
     "output_type": "execute_result"
    }
   ],
   "source": [
    "kHash"
   ]
  },
  {
   "cell_type": "code",
   "execution_count": 9,
   "id": "61730766",
   "metadata": {},
   "outputs": [
    {
     "name": "stdout",
     "output_type": "stream",
     "text": [
      "No. of 1's in bitArray: 987\n"
     ]
    }
   ],
   "source": [
    "### No. of 1s in BitArray\n",
    "for i in index:\n",
    "    bitArray[i]=1\n",
    "\n",
    "print(\"No. of 1's in bitArray:\",sum(bitArray))"
   ]
  },
  {
   "cell_type": "markdown",
   "id": "306c73f9",
   "metadata": {},
   "source": [
    "### Filter Streams"
   ]
  },
  {
   "cell_type": "code",
   "execution_count": 10,
   "id": "c4c5bc41",
   "metadata": {},
   "outputs": [
    {
     "data": {
      "text/plain": [
       "['wgrr', 'atma', 'e', 'tnjf', 'i']"
      ]
     },
     "execution_count": 10,
     "metadata": {},
     "output_type": "execute_result"
    }
   ],
   "source": [
    "stream = sc.textFile(\"data/Stream.txt\")\n",
    "stream.take(5)"
   ]
  },
  {
   "cell_type": "code",
   "execution_count": 11,
   "id": "7af2a3b9",
   "metadata": {},
   "outputs": [
    {
     "data": {
      "text/plain": [
       "1003"
      ]
     },
     "execution_count": 11,
     "metadata": {},
     "output_type": "execute_result"
    }
   ],
   "source": [
    "stream.count()"
   ]
  },
  {
   "cell_type": "code",
   "execution_count": 13,
   "id": "0464e1ca",
   "metadata": {},
   "outputs": [],
   "source": [
    "## Filtering the stream using the bloom filter\n",
    "filteredStream = stream.filter(lambda x: all( [ bitArray[(a*hash(x) + b)%4096]==1 for a,b in kHash.values() ] ) )"
   ]
  },
  {
   "cell_type": "code",
   "execution_count": 18,
   "id": "293c6045",
   "metadata": {},
   "outputs": [
    {
     "data": {
      "text/plain": [
       "157"
      ]
     },
     "execution_count": 18,
     "metadata": {},
     "output_type": "execute_result"
    }
   ],
   "source": [
    "## No. of words predicted positive\n",
    "pred_posi = filteredStream.count()\n",
    "pred_posi"
   ]
  },
  {
   "cell_type": "markdown",
   "id": "18e85999",
   "metadata": {},
   "source": [
    "- Thus, 158 words in the stream belongs to universal dataset according our bloom filter."
   ]
  },
  {
   "cell_type": "markdown",
   "id": "04b76eae",
   "metadata": {},
   "source": [
    "#### Actual count of universal words in Streams"
   ]
  },
  {
   "cell_type": "code",
   "execution_count": 16,
   "id": "154c7d65",
   "metadata": {},
   "outputs": [
    {
     "data": {
      "text/plain": [
       "8"
      ]
     },
     "execution_count": 16,
     "metadata": {},
     "output_type": "execute_result"
    }
   ],
   "source": [
    "no_posi = univ.intersection(stream).count()\n",
    "no_posi"
   ]
  },
  {
   "cell_type": "code",
   "execution_count": 17,
   "id": "a07f28e9",
   "metadata": {},
   "outputs": [],
   "source": [
    "n = stream.count()"
   ]
  },
  {
   "cell_type": "code",
   "execution_count": 21,
   "id": "fcb8fe52",
   "metadata": {},
   "outputs": [
    {
     "name": "stdout",
     "output_type": "stream",
     "text": [
      "Negatives: 995\n",
      "False Positives: 149\n",
      "False Positive percentage: 14.855433698903289\n"
     ]
    }
   ],
   "source": [
    "print(\"Negatives:\",n-no_posi)\n",
    "print(\"False Positives:\", pred_posi-no_posi)\n",
    "print(\"False Positive percentage:\",(pred_posi-no_posi)/n*100)"
   ]
  },
  {
   "cell_type": "markdown",
   "id": "5c2650ed",
   "metadata": {},
   "source": [
    "### False positives with varying k"
   ]
  },
  {
   "cell_type": "code",
   "execution_count": 25,
   "id": "06ffb1df",
   "metadata": {},
   "outputs": [
    {
     "name": "stdout",
     "output_type": "stream",
     "text": [
      "For k= 1\n",
      "Negatives: 995\n",
      "False Positives: 128\n",
      "False Positive percentage: 12.761714855433699\n",
      "------------------------------------------------------\n",
      "For k= 2\n",
      "Negatives: 995\n",
      "False Positives: 152\n",
      "False Positive percentage: 15.154536390827516\n",
      "------------------------------------------------------\n",
      "For k= 3\n",
      "Negatives: 995\n",
      "False Positives: 995\n",
      "False Positive percentage: 99.20239282153538\n",
      "------------------------------------------------------\n",
      "For k= 4\n",
      "Negatives: 995\n",
      "False Positives: 146\n",
      "False Positive percentage: 14.556331006979061\n",
      "------------------------------------------------------\n",
      "For k= 5\n",
      "Negatives: 995\n",
      "False Positives: 158\n",
      "False Positive percentage: 15.752741774675972\n",
      "------------------------------------------------------\n",
      "For k= 6\n",
      "Negatives: 995\n",
      "False Positives: 159\n",
      "False Positive percentage: 15.852442671984049\n",
      "------------------------------------------------------\n",
      "For k= 7\n",
      "Negatives: 995\n",
      "False Positives: 128\n",
      "False Positive percentage: 12.761714855433699\n",
      "------------------------------------------------------\n",
      "For k= 8\n",
      "Negatives: 995\n",
      "False Positives: 172\n",
      "False Positive percentage: 17.148554336989033\n",
      "------------------------------------------------------\n",
      "For k= 9\n",
      "Negatives: 995\n",
      "False Positives: 164\n",
      "False Positive percentage: 16.350947158524427\n",
      "------------------------------------------------------\n",
      "For k= 10\n",
      "Negatives: 995\n",
      "False Positives: 167\n",
      "False Positive percentage: 16.650049850448653\n",
      "------------------------------------------------------\n",
      "For k= 11\n",
      "Negatives: 995\n",
      "False Positives: 164\n",
      "False Positive percentage: 16.350947158524427\n",
      "------------------------------------------------------\n",
      "For k= 12\n",
      "Negatives: 995\n",
      "False Positives: 192\n",
      "False Positive percentage: 19.14257228315055\n",
      "------------------------------------------------------\n",
      "For k= 13\n",
      "Negatives: 995\n",
      "False Positives: 177\n",
      "False Positive percentage: 17.647058823529413\n",
      "------------------------------------------------------\n",
      "For k= 14\n",
      "Negatives: 995\n",
      "False Positives: 192\n",
      "False Positive percentage: 19.14257228315055\n",
      "------------------------------------------------------\n",
      "For k= 15\n",
      "Negatives: 995\n",
      "False Positives: 174\n",
      "False Positive percentage: 17.347956131605187\n",
      "------------------------------------------------------\n",
      "For k= 16\n",
      "Negatives: 995\n",
      "False Positives: 168\n",
      "False Positive percentage: 16.749750747756732\n",
      "------------------------------------------------------\n",
      "For k= 17\n",
      "Negatives: 995\n",
      "False Positives: 192\n",
      "False Positive percentage: 19.14257228315055\n",
      "------------------------------------------------------\n",
      "For k= 18\n",
      "Negatives: 995\n",
      "False Positives: 192\n",
      "False Positive percentage: 19.14257228315055\n",
      "------------------------------------------------------\n",
      "For k= 19\n",
      "Negatives: 995\n",
      "False Positives: 159\n",
      "False Positive percentage: 15.852442671984049\n",
      "------------------------------------------------------\n"
     ]
    }
   ],
   "source": [
    "for k in range(1,20):\n",
    "    bitArray = [0]*4096\n",
    "    index, kHash = gen_bloomFilter(k, univ)\n",
    "    for i in index:\n",
    "        bitArray[i]=1\n",
    "    filteredStream = stream.filter(lambda x: all( [ bitArray[(a*hash(x) + b)%4096]==1 for a,b in kHash.values() ] ) )\n",
    "    pred_posi = filteredStream.count()\n",
    "    print(\"For k=\",k)\n",
    "    print(\"Negatives:\",n-no_posi)\n",
    "    print(\"False Positives:\", pred_posi-no_posi)\n",
    "    print(\"False Positive percentage:\",(pred_posi-no_posi)/n*100)\n",
    "    print(\"------------------------------------------------------\")"
   ]
  },
  {
   "cell_type": "markdown",
   "id": "a2fde308",
   "metadata": {},
   "source": [
    "**Best No. of hash function was found to be k=1**  \n",
    "**Least False Positive pecentage = 12%** "
   ]
  }
 ],
 "metadata": {
  "kernelspec": {
   "display_name": "Python 3 (ipykernel)",
   "language": "python",
   "name": "python3"
  },
  "language_info": {
   "codemirror_mode": {
    "name": "ipython",
    "version": 3
   },
   "file_extension": ".py",
   "mimetype": "text/x-python",
   "name": "python",
   "nbconvert_exporter": "python",
   "pygments_lexer": "ipython3",
   "version": "3.9.12"
  }
 },
 "nbformat": 4,
 "nbformat_minor": 5
}
