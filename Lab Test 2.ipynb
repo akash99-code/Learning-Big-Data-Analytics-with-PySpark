{
 "cells": [
  {
   "cell_type": "markdown",
   "id": "0425c72c",
   "metadata": {},
   "source": [
    "## Lab Test 2"
   ]
  },
  {
   "cell_type": "markdown",
   "id": "3acfaa78",
   "metadata": {},
   "source": [
    "#### Problem:\n",
    "A tool for testing internet bandwidth outputs the following into a text file for each hour:  \n",
    "Day, Hour, Bandwidth in MB/s  \n",
    "1,0,100.34  \n",
    "1,1,123.89  \n",
    ".  \n",
    ".  \n",
    ".  \n",
    "1,22,96.77  \n",
    "1,23,49.28  \n",
    "\n",
    "The numbers 0-23 indicate the hour of the day in 24-hour format. This is followed by the data for \n",
    "the next day and so on. Assume that your processing begins on data with complete days.\n",
    "\n",
    "Write Spark code to find the following:\n",
    "1. Average i th hour bandwidth across all the days given i.\n",
    "[4M]\n",
    "2. Number of days when the i\n",
    "th hour bandwidth was higher than the average i\n",
    "th hour bandwidth.\n",
    "3. Best average Quarter. Q1: 0-5, Q2: 6-11, Q3: 12-17, Q4: 18-23. Best Quarter is the one that had \n",
    "the highest average bandwidth across all days.\n",
    "4. The hour of the day that had the best increase and the worst fall compared to the previous hour.\n"
   ]
  },
  {
   "cell_type": "code",
   "execution_count": 102,
   "id": "7470652c",
   "metadata": {},
   "outputs": [],
   "source": [
    " L= [(1,0,112.36),\n",
    "(1,1,143.89),\n",
    "(1,2,129.43),\n",
    "(1,3,115.57),\n",
    "(1,4,101.86),\n",
    "(1,5,99.36),\n",
    "(1,6,120.00),\n",
    "(1,7,135.72),\n",
    "(1,8,99.53),\n",
    "(1,9,121.22),\n",
    "(1,10,115.68),\n",
    "(1,11,122.73),\n",
    "(1,12,145.65),\n",
    "(1,13,144.27),\n",
    "(1,14,140.79),\n",
    "(1,15,146.39),\n",
    "(1,16,122.23),\n",
    "(1,17,112.65),\n",
    "(1,18,112.35),\n",
    "(1,19,100.65),\n",
    "(1,20,99.75),\n",
    "(1,21,140.32),\n",
    "(1,22,153.26),\n",
    "(1,23,180.99),\n",
    "(2,0,112.36),\n",
    "(2,1,143.89),\n",
    "(2,2,129.43),\n",
    "(2,3,115.57),\n",
    "(2,4,101.86),\n",
    "(2,5,99.36),\n",
    "(2,6,120.00),\n",
    "(2,7,135.72),\n",
    "(2,8,99.53),\n",
    "(2,9,121.22),\n",
    "(2,10,115.68),\n",
    "(2,11,122.73),\n",
    "(2,12,145.65),\n",
    "(2,13,144.27),\n",
    "(2,14,140.79),\n",
    "(2,15,146.39),\n",
    "(2,16,122.23),\n",
    "(2,17,112.65),\n",
    "(2,18,112.35),\n",
    "(2,19,100.65),\n",
    "(2,20,99.75),\n",
    "(2,21,140.32),\n",
    "(2,22,153.26),\n",
    "(2,23,180.99),\n",
    "(3,0,112.36),\n",
    "(3,1,143.89),\n",
    "(3,2,129.43),\n",
    "(3,3,115.57),\n",
    "(3,4,101.86),\n",
    "(3,5,99.36),\n",
    "(3,6,120.00),\n",
    "(3,7,136.72),\n",
    "(3,8,99.53),\n",
    "(3,9,121.22),\n",
    "(3,10,115.68),\n",
    "(3,11,122.73),\n",
    "(3,12,145.65),\n",
    "(3,13,144.27),\n",
    "(3,14,140.79),\n",
    "(3,15,146.39),\n",
    "(3,16,122.23),\n",
    "(3,17,112.65),\n",
    "(3,18,112.35),\n",
    "(3,19,100.65),\n",
    "(3,20,99.75),\n",
    "(3,21,140.32),\n",
    "(3,22,153.26),\n",
    "(3,23,180.99)]"
   ]
  },
  {
   "cell_type": "code",
   "execution_count": 1,
   "id": "571c2241",
   "metadata": {},
   "outputs": [],
   "source": [
    "## setup\n",
    "import findspark\n",
    "findspark.init()\n",
    "findspark.find()\n",
    "import pyspark\n",
    "findspark.find()\n",
    "from pyspark import SparkContext, SparkConf\n",
    "\n",
    "conf = pyspark.SparkConf().setAppName('LabTest2').setMaster('local')\n",
    "sc = pyspark.SparkContext(conf=conf)"
   ]
  },
  {
   "cell_type": "code",
   "execution_count": 104,
   "id": "a6fe8045",
   "metadata": {},
   "outputs": [
    {
     "data": {
      "text/plain": [
       "['1,0,112.36', '1,1,143.89']"
      ]
     },
     "execution_count": 104,
     "metadata": {},
     "output_type": "execute_result"
    }
   ],
   "source": [
    "## Load data\n",
    "rdd = sc.textFile(\"data/bandwidths.txt\")\n",
    "rdd.take(2)"
   ]
  },
  {
   "cell_type": "code",
   "execution_count": 105,
   "id": "347ed0ed",
   "metadata": {},
   "outputs": [],
   "source": [
    "## formatting record\n",
    "data = rdd.map(lambda a: [float(x) for x in a.split(\",\")])"
   ]
  },
  {
   "cell_type": "code",
   "execution_count": 106,
   "id": "f7fb87ea",
   "metadata": {},
   "outputs": [
    {
     "data": {
      "text/plain": [
       "[[1.0, 0.0, 112.36]]"
      ]
     },
     "execution_count": 106,
     "metadata": {},
     "output_type": "execute_result"
    }
   ],
   "source": [
    "data.take(1)"
   ]
  },
  {
   "cell_type": "markdown",
   "id": "0704be1c",
   "metadata": {},
   "source": [
    "### 1. Average of i th hour bandwidth across all the days given i."
   ]
  },
  {
   "cell_type": "code",
   "execution_count": 20,
   "id": "f2587532",
   "metadata": {},
   "outputs": [],
   "source": [
    "def hrAvgBW(i):\n",
    "    t1 = data.filter(lambda a: a[1]==i)\n",
    "    t2 = t1.map(lambda a: (a[1],(a[2],1))).reduceByKey(lambda a,b : (a[0]+b[0],a[1]+b[1]))\n",
    "    t3 = t2.map(lambda a: (a[0],a[1][0]/a[1][1]))\n",
    "    return(t3.collect()[0][1])"
   ]
  },
  {
   "cell_type": "code",
   "execution_count": 116,
   "id": "4f196fd4",
   "metadata": {},
   "outputs": [
    {
     "name": "stdout",
     "output_type": "stream",
     "text": [
      "Average of 7th hour bandwidth across all the days:\n",
      "136.38666666666666\n"
     ]
    }
   ],
   "source": [
    "print(\"Average of 7th hour bandwidth across all the days:\")\n",
    "print(hrAvgBW(7))"
   ]
  },
  {
   "cell_type": "markdown",
   "id": "84276e74",
   "metadata": {},
   "source": [
    "### 2. Number of days when the ith hour bandwidth was higher than the average ith hour bandwidth."
   ]
  },
  {
   "cell_type": "code",
   "execution_count": 111,
   "id": "8376c5a6",
   "metadata": {},
   "outputs": [],
   "source": [
    "def ndOavg(i):\n",
    "    avgi = hrAvgBW(i)\n",
    "    c = data.filter(lambda a: a[1]==i and a[2]>avgi ).count()\n",
    "    return(c)"
   ]
  },
  {
   "cell_type": "code",
   "execution_count": 113,
   "id": "316adf92",
   "metadata": {},
   "outputs": [
    {
     "name": "stdout",
     "output_type": "stream",
     "text": [
      "Number of days when the 7th hour bandwidth was higher than the average 7th hour bandwidth:\n",
      "1\n"
     ]
    }
   ],
   "source": [
    "print(\"Number of days when the 7th hour bandwidth was higher than the average 7th hour bandwidth:\")\n",
    "print(ndOavg(7))"
   ]
  },
  {
   "cell_type": "markdown",
   "id": "346b5e80",
   "metadata": {},
   "source": [
    "### 3. Best average Quarter. Q1: 0-5, Q2: 6-11, Q3: 12-17, Q4: 18-23. Best Quarter is the one that had the highest average bandwidth across all days."
   ]
  },
  {
   "cell_type": "code",
   "execution_count": 31,
   "id": "3f83dec0",
   "metadata": {},
   "outputs": [],
   "source": [
    "def quartermap(hr):\n",
    "    if hr>=0 and hr<=5:\n",
    "        return 1\n",
    "    if hr>=6 and hr<=11:\n",
    "        return 2\n",
    "    if hr>=12 and hr<=17:\n",
    "        return 3\n",
    "    if hr>=18 and hr<=23:\n",
    "        return 4"
   ]
  },
  {
   "cell_type": "code",
   "execution_count": 84,
   "id": "47464555",
   "metadata": {},
   "outputs": [],
   "source": [
    "def bestQ():\n",
    "    t1 = data.map(lambda a: (quartermap(a[1]),(a[2],1)))\n",
    "    t2 = t1.reduceByKey(lambda a,b: (a[0]+b[0],a[1]+b[1]))\n",
    "    t3 = t2.map(lambda a: (a[0], a[1][0]/a[1][1]))\n",
    "    bq = t3.reduce(lambda a,b: a if a[1]>b[1] else b)\n",
    "    return(bq[0])"
   ]
  },
  {
   "cell_type": "code",
   "execution_count": 115,
   "id": "789d673b",
   "metadata": {},
   "outputs": [
    {
     "name": "stdout",
     "output_type": "stream",
     "text": [
      "Best Average Quarter:\n",
      "Q 3\n"
     ]
    }
   ],
   "source": [
    "print(\"Best Average Quarter:\")\n",
    "print(\"Q\",bestQ())"
   ]
  },
  {
   "cell_type": "markdown",
   "id": "e2637c8e",
   "metadata": {},
   "source": [
    "### 4. The hour of the day that had the best increase and the worst fall compared to the previous hour."
   ]
  },
  {
   "cell_type": "code",
   "execution_count": 117,
   "id": "70992f56",
   "metadata": {},
   "outputs": [
    {
     "data": {
      "text/plain": [
       "[(1.0, (1.0, 31.529999999999987)),\n",
       " (2.0, (2.0, -14.45999999999998)),\n",
       " (3.0, (3.0, -13.860000000000014)),\n",
       " (4.0, (4.0, -13.709999999999994)),\n",
       " (5.0, (5.0, -2.5)),\n",
       " (6.0, (6.0, 20.64)),\n",
       " (7.0, (7.0, 15.719999999999999)),\n",
       " (8.0, (8.0, -36.19)),\n",
       " (9.0, (9.0, 21.689999999999998)),\n",
       " (10.0, (10.0, -5.539999999999992)),\n",
       " (11.0, (11.0, 7.049999999999997)),\n",
       " (12.0, (12.0, 22.92)),\n",
       " (13.0, (13.0, -1.3799999999999955)),\n",
       " (14.0, (14.0, -3.480000000000018)),\n",
       " (15.0, (15.0, 5.599999999999994)),\n",
       " (16.0, (16.0, -24.159999999999982)),\n",
       " (17.0, (17.0, -9.579999999999998)),\n",
       " (18.0, (18.0, -0.30000000000001137)),\n",
       " (19.0, (19.0, -11.699999999999989)),\n",
       " (20.0, (20.0, -0.9000000000000057)),\n",
       " (21.0, (21.0, 40.56999999999999)),\n",
       " (22.0, (22.0, 12.939999999999998)),\n",
       " (23.0, (23.0, 27.730000000000018)),\n",
       " (24.0, (0.0, -68.63000000000001)),\n",
       " (25.0, (1.0, 31.529999999999987)),\n",
       " (26.0, (2.0, -14.45999999999998)),\n",
       " (27.0, (3.0, -13.860000000000014)),\n",
       " (28.0, (4.0, -13.709999999999994)),\n",
       " (29.0, (5.0, -2.5)),\n",
       " (30.0, (6.0, 20.64)),\n",
       " (31.0, (7.0, 15.719999999999999)),\n",
       " (32.0, (8.0, -36.19)),\n",
       " (33.0, (9.0, 21.689999999999998)),\n",
       " (34.0, (10.0, -5.539999999999992)),\n",
       " (35.0, (11.0, 7.049999999999997)),\n",
       " (36.0, (12.0, 22.92)),\n",
       " (37.0, (13.0, -1.3799999999999955)),\n",
       " (38.0, (14.0, -3.480000000000018)),\n",
       " (39.0, (15.0, 5.599999999999994)),\n",
       " (40.0, (16.0, -24.159999999999982)),\n",
       " (41.0, (17.0, -9.579999999999998)),\n",
       " (42.0, (18.0, -0.30000000000001137)),\n",
       " (43.0, (19.0, -11.699999999999989)),\n",
       " (44.0, (20.0, -0.9000000000000057)),\n",
       " (45.0, (21.0, 40.56999999999999)),\n",
       " (46.0, (22.0, 12.939999999999998)),\n",
       " (47.0, (23.0, 27.730000000000018)),\n",
       " (48.0, (0.0, -68.63000000000001)),\n",
       " (49.0, (1.0, 31.529999999999987)),\n",
       " (50.0, (2.0, -14.45999999999998)),\n",
       " (51.0, (3.0, -13.860000000000014)),\n",
       " (52.0, (4.0, -13.709999999999994)),\n",
       " (53.0, (5.0, -2.5)),\n",
       " (54.0, (6.0, 20.64)),\n",
       " (55.0, (7.0, 17.72)),\n",
       " (56.0, (8.0, -38.19)),\n",
       " (57.0, (9.0, 21.689999999999998)),\n",
       " (58.0, (10.0, -5.539999999999992)),\n",
       " (59.0, (11.0, 7.049999999999997)),\n",
       " (60.0, (12.0, 22.92)),\n",
       " (61.0, (13.0, -1.3799999999999955)),\n",
       " (62.0, (14.0, -3.480000000000018)),\n",
       " (63.0, (15.0, 5.599999999999994)),\n",
       " (64.0, (16.0, -24.159999999999982)),\n",
       " (65.0, (17.0, -9.579999999999998)),\n",
       " (66.0, (18.0, -0.30000000000001137)),\n",
       " (67.0, (19.0, -11.699999999999989)),\n",
       " (68.0, (20.0, -0.9000000000000057)),\n",
       " (69.0, (21.0, 40.56999999999999)),\n",
       " (70.0, (22.0, 12.939999999999998)),\n",
       " (71.0, (23.0, 27.730000000000018))]"
      ]
     },
     "execution_count": 117,
     "metadata": {},
     "output_type": "execute_result"
    }
   ],
   "source": [
    "## econding hour to a timestamp \n",
    "t1 = data.map(lambda a: (a[1]+(a[0]-1)*24 , a) ) \n",
    "\n",
    "## producing a new record to compare with next timestamp, for each record\n",
    "t2 =t1.flatMap(lambda a: [(a[0],[a[0],a[1][1],a[1][2]]),(a[0]+1,[a[0],a[1][1],a[1][2]])] ) \n",
    "\n",
    "## calculating change for each day compered to its previous day\n",
    "t3 = t2.reduceByKey(lambda a,b: (b[1], b[2]-a[2]) if a[0]<b[0] else (a[1], a[2]-b[2])).filter(lambda a: len(a[1])==2)\n",
    "\n",
    "t3.collect()"
   ]
  },
  {
   "cell_type": "code",
   "execution_count": 118,
   "id": "89d6c3e9",
   "metadata": {},
   "outputs": [
    {
     "name": "stdout",
     "output_type": "stream",
     "text": [
      "Hour of the day that had the best increase:\n",
      "21.0\n"
     ]
    }
   ],
   "source": [
    "## locating the highest change\n",
    "best_increase = t3.reduce(lambda a,b: a if a[1][1]>b[1][1] else b)\n",
    "print(\"Hour of the day that had the best increase:\")\n",
    "print(best_increase[1][0])"
   ]
  },
  {
   "cell_type": "code",
   "execution_count": 119,
   "id": "ac473ac0",
   "metadata": {},
   "outputs": [
    {
     "name": "stdout",
     "output_type": "stream",
     "text": [
      "Hour of the day that had the worst fall:\n",
      "0.0\n"
     ]
    }
   ],
   "source": [
    "## Calculating the lowest change\n",
    "best_fall = t3.reduce(lambda a,b: a if a[1][1]<b[1][1] else b)\n",
    "print(\"Hour of the day that had the worst fall:\")\n",
    "print(best_fall[1][0])"
   ]
  }
 ],
 "metadata": {
  "kernelspec": {
   "display_name": "Python 3 (ipykernel)",
   "language": "python",
   "name": "python3"
  },
  "language_info": {
   "codemirror_mode": {
    "name": "ipython",
    "version": 3
   },
   "file_extension": ".py",
   "mimetype": "text/x-python",
   "name": "python",
   "nbconvert_exporter": "python",
   "pygments_lexer": "ipython3",
   "version": "3.9.12"
  }
 },
 "nbformat": 4,
 "nbformat_minor": 5
}
